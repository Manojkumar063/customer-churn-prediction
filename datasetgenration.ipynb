{
 "cells": [
  {
   "cell_type": "markdown",
   "metadata": {},
   "source": [
    "## Dataset Genration"
   ]
  },
  {
   "cell_type": "code",
   "execution_count": 17,
   "metadata": {},
   "outputs": [
    {
     "name": "stdout",
     "output_type": "stream",
     "text": [
      "Actual Churn Rate: 29.56%\n"
     ]
    }
   ],
   "source": [
    "import numpy as np\n",
    "import pandas as pd\n",
    "\n",
    "# Set seed for reproducibility\n",
    "np.random.seed(42)\n",
    "\n",
    "# Generate CustomerID\n",
    "customer_id = np.arange(1, 5001)\n",
    "\n",
    "# Age distribution (Normal with mean 45, std 15, clipped to 18-80)\n",
    "age = np.clip(np.random.normal(45, 15, 5000), 18, 80).astype(int)\n",
    "\n",
    "# Gender (50% Male, 50% Female)\n",
    "gender = np.random.choice(['Male', 'Female'], size=5000, p=[0.5, 0.5])\n",
    "\n",
    "# ContractType distribution\n",
    "contract_type = np.random.choice(['Month-to-month', 'One year', 'Two year'], \n",
    "                                 size=5000, p=[0.6, 0.25, 0.15])\n",
    "\n",
    "# Monthly Charges (higher for fiber optic users)\n",
    "monthly_charges = np.random.normal(70, 30, 5000)\n",
    "monthly_charges = np.clip(monthly_charges, 20, 150)\n",
    "\n",
    "# Tenure (0-72 months, correlated with contract type)\n",
    "tenure = np.random.randint(0, 73, 5000)\n",
    "tenure[contract_type == 'One year'] = np.random.randint(12, 24, np.sum(contract_type == 'One year'))\n",
    "tenure[contract_type == 'Two year'] = np.random.randint(24, 73, np.sum(contract_type == 'Two year'))\n",
    "\n",
    "# Total Charges (tenure * monthly charges with noise)\n",
    "total_charges = tenure * monthly_charges + np.random.normal(0, 100, 5000)\n",
    "total_charges = np.clip(total_charges, 0, None)\n",
    "\n",
    "# Tech Support (Higher for longer contracts)\n",
    "tech_support = np.random.choice(['Yes', 'No'], size=5000, p=[0.3, 0.7])\n",
    "tech_support[contract_type == 'Two year'] = 'Yes'\n",
    "\n",
    "# Internet Service\n",
    "types = ['DSL', 'Fiber optic', 'No']\n",
    "internet_service = np.random.choice(types, size=5000, p=[0.3, 0.5, 0.2])\n",
    "\n",
    "# Paperless Billing (More common for month-to-month contracts)\n",
    "paperless_billing = np.random.choice(['Yes', 'No'], size=5000, p=[0.7, 0.3])\n",
    "paperless_billing[contract_type == 'Month-to-month'] = 'Yes'\n",
    "\n",
    "# Payment Method\n",
    "payment_method = np.random.choice(['Electronic check', 'Mailed check', 'Bank transfer', 'Credit card'], \n",
    "                                  size=5000, p=[0.4, 0.2, 0.2, 0.2])\n",
    "\n",
    "# Churn (Higher for Month-to-month users, lower for Two-year users)\n",
    "churn_prob = np.where(contract_type == 'Month-to-month', 0.4, \n",
    "              np.where(contract_type == 'One year', 0.15, 0.05))\n",
    "churn = np.random.binomial(1, churn_prob)  # 1 = Yes, 0 = No\n",
    "churn = np.where(churn == 1, 'Yes', 'No')\n",
    "\n",
    "# Derived Features\n",
    "average_monthly_charges = total_charges / (tenure + 1)\n",
    "average_monthly_charges = np.round(average_monthly_charges, 2)\n",
    "customer_lifetime_value = total_charges * (1 + np.random.uniform(0.1, 0.5, 5000))\n",
    "customer_lifetime_value = np.round(customer_lifetime_value, 2)\n",
    "\n",
    "# Create DataFrame\n",
    "df = pd.DataFrame({\n",
    "    'CustomerID': customer_id,\n",
    "    'Age': age,\n",
    "    'Gender': gender,\n",
    "    'ContractType': contract_type,\n",
    "    'MonthlyCharges': np.round(monthly_charges, 2),\n",
    "    'TotalCharges': np.round(total_charges, 2),\n",
    "    'TechSupport': tech_support,\n",
    "    'InternetService': internet_service,\n",
    "    'Tenure': tenure,\n",
    "    'PaperlessBilling': paperless_billing,\n",
    "    'PaymentMethod': payment_method,\n",
    "    'Churn': churn,\n",
    "    'AverageMonthlyCharges': average_monthly_charges,\n",
    "    'CustomerLifetimeValue': customer_lifetime_value\n",
    "})\n",
    "\n",
    "# Ensure target churn rate\n",
    "actual_churn_rate = (df['Churn'] == 'Yes').mean()\n",
    "print(f'Actual Churn Rate: {actual_churn_rate * 100:.2f}%')\n",
    "\n",
    "# Save to CSV\n",
    "df.to_csv('synthetic_customer_data.csv', index=False)\n"
   ]
  },
  {
   "cell_type": "code",
   "execution_count": 5,
   "metadata": {},
   "outputs": [],
   "source": [
    "# Save to CSV\n",
    "df.to_csv(r'C:\\Users\\MANOJKUMAR\\OneDrive\\Desktop\\Documents\\Thinkhumble\\customer_data.csv', index=False)\n"
   ]
  },
  {
   "cell_type": "code",
   "execution_count": null,
   "metadata": {},
   "outputs": [],
   "source": []
  }
 ],
 "metadata": {
  "kernelspec": {
   "display_name": "Python 3 (ipykernel)",
   "language": "python",
   "name": "python3"
  },
  "language_info": {
   "codemirror_mode": {
    "name": "ipython",
    "version": 3
   },
   "file_extension": ".py",
   "mimetype": "text/x-python",
   "name": "python",
   "nbconvert_exporter": "python",
   "pygments_lexer": "ipython3",
   "version": "3.11.7"
  }
 },
 "nbformat": 4,
 "nbformat_minor": 2
}
